{
 "cells": [
  {
   "cell_type": "code",
   "execution_count": null,
   "id": "3f7f95e4",
   "metadata": {
    "ExecuteTime": {
     "end_time": "2021-07-09T17:37:45.869959Z",
     "start_time": "2021-07-09T17:37:44.638295Z"
    }
   },
   "outputs": [],
   "source": [
    "import os\n",
    "import json\n",
    "import shutil\n",
    "import pandas as pd\n",
    "df = pd.read_excel('Send-off.xlsx', usecols=['Code', 'PictureMin', 'Who'])\n",
    "df.Code = df.Code.astype(str) + '_' + df.PictureMin.astype(str).str[0]\n",
    "df.Who = df.Who.str.split('|').str[0]\n",
    "dict_buyer = df.groupby('Who').Code.apply(list).to_dict()\n",
    "path_picture = '../img/picture/'\n",
    "path_sold = '../img/sold/'\n",
    "shutil.rmtree(path_sold)\n",
    "os.mkdir(path_sold)\n",
    "for i, j in dict_buyer.items():\n",
    "    os.mkdir(path_sold + i + '/')\n",
    "    for picture in j:\n",
    "        shutil.copyfile(path_picture + picture + '.JPG', path_sold + i + '/' + picture + '.JPG')    "
   ]
  }
 ],
 "metadata": {
  "kernelspec": {
   "display_name": "Python 3",
   "language": "python",
   "name": "python3"
  },
  "language_info": {
   "codemirror_mode": {
    "name": "ipython",
    "version": 3
   },
   "file_extension": ".py",
   "mimetype": "text/x-python",
   "name": "python",
   "nbconvert_exporter": "python",
   "pygments_lexer": "ipython3",
   "version": "3.8.8"
  },
  "toc": {
   "base_numbering": 1,
   "nav_menu": {},
   "number_sections": true,
   "sideBar": true,
   "skip_h1_title": false,
   "title_cell": "Table of Contents",
   "title_sidebar": "Contents",
   "toc_cell": false,
   "toc_position": {},
   "toc_section_display": true,
   "toc_window_display": false
  },
  "varInspector": {
   "cols": {
    "lenName": 16,
    "lenType": 16,
    "lenVar": 40
   },
   "kernels_config": {
    "python": {
     "delete_cmd_postfix": "",
     "delete_cmd_prefix": "del ",
     "library": "var_list.py",
     "varRefreshCmd": "print(var_dic_list())"
    },
    "r": {
     "delete_cmd_postfix": ") ",
     "delete_cmd_prefix": "rm(",
     "library": "var_list.r",
     "varRefreshCmd": "cat(var_dic_list()) "
    }
   },
   "types_to_exclude": [
    "module",
    "function",
    "builtin_function_or_method",
    "instance",
    "_Feature"
   ],
   "window_display": false
  }
 },
 "nbformat": 4,
 "nbformat_minor": 5
}
