{
 "cells": [
  {
   "cell_type": "code",
   "execution_count": 90,
   "id": "cf11e8df",
   "metadata": {
    "ExecuteTime": {
     "end_time": "2021-05-22T18:32:51.759021Z",
     "start_time": "2021-05-22T18:32:51.742028Z"
    }
   },
   "outputs": [],
   "source": [
    "import json\n",
    "import pandas as pd"
   ]
  },
  {
   "cell_type": "code",
   "execution_count": 91,
   "id": "617aa9ea",
   "metadata": {
    "ExecuteTime": {
     "end_time": "2021-05-22T18:32:52.988373Z",
     "start_time": "2021-05-22T18:32:52.447168Z"
    }
   },
   "outputs": [],
   "source": [
    "df = pd.read_excel('Send-off.xlsx')\n",
    "dict_json = df[['RoomCode', 'Room']].drop_duplicates().set_index('RoomCode').to_dict()['Room']\n",
    "dict_json = {k: {'RoomName': v, 'Item': {}} for k, v in dict_json.items()}\n",
    "df.drop('Room', axis=1, inplace=True)\n",
    "df.set_index('RoomCode', inplace=True)\n",
    "for index, row in df.iterrows():\n",
    "    dict_json[index]['Item'][row.Code] = row.drop('Code').to_dict()"
   ]
  },
  {
   "cell_type": "code",
   "execution_count": 93,
   "id": "7f9071a3",
   "metadata": {
    "ExecuteTime": {
     "end_time": "2021-05-22T18:32:59.401299Z",
     "start_time": "2021-05-22T18:32:59.355293Z"
    }
   },
   "outputs": [],
   "source": [
    "with open('send-off.json', 'w') as f:\n",
    "    json.dump(dict_json, f)"
   ]
  }
 ],
 "metadata": {
  "kernelspec": {
   "display_name": "Python 3",
   "language": "python",
   "name": "python3"
  },
  "language_info": {
   "codemirror_mode": {
    "name": "ipython",
    "version": 3
   },
   "file_extension": ".py",
   "mimetype": "text/x-python",
   "name": "python",
   "nbconvert_exporter": "python",
   "pygments_lexer": "ipython3",
   "version": "3.8.8"
  },
  "toc": {
   "base_numbering": 1,
   "nav_menu": {},
   "number_sections": true,
   "sideBar": true,
   "skip_h1_title": false,
   "title_cell": "Table of Contents",
   "title_sidebar": "Contents",
   "toc_cell": false,
   "toc_position": {},
   "toc_section_display": true,
   "toc_window_display": false
  },
  "varInspector": {
   "cols": {
    "lenName": 16,
    "lenType": 16,
    "lenVar": 40
   },
   "kernels_config": {
    "python": {
     "delete_cmd_postfix": "",
     "delete_cmd_prefix": "del ",
     "library": "var_list.py",
     "varRefreshCmd": "print(var_dic_list())"
    },
    "r": {
     "delete_cmd_postfix": ") ",
     "delete_cmd_prefix": "rm(",
     "library": "var_list.r",
     "varRefreshCmd": "cat(var_dic_list()) "
    }
   },
   "types_to_exclude": [
    "module",
    "function",
    "builtin_function_or_method",
    "instance",
    "_Feature"
   ],
   "window_display": false
  }
 },
 "nbformat": 4,
 "nbformat_minor": 5
}
