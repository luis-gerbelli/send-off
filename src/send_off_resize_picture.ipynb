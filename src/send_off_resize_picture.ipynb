{
 "cells": [
  {
   "cell_type": "code",
   "execution_count": 1,
   "id": "ecbac6e9",
   "metadata": {
    "ExecuteTime": {
     "end_time": "2021-05-21T02:11:26.274270Z",
     "start_time": "2021-05-21T02:11:26.186276Z"
    }
   },
   "outputs": [],
   "source": [
    "from PIL import Image, ExifTags\n",
    "from os import listdir\n",
    "from os.path import isfile, join"
   ]
  },
  {
   "cell_type": "code",
   "execution_count": 2,
   "id": "16296616",
   "metadata": {
    "ExecuteTime": {
     "end_time": "2021-05-21T02:11:26.283069Z",
     "start_time": "2021-05-21T02:11:26.277272Z"
    }
   },
   "outputs": [],
   "source": [
    "path_from = '..\\\\Documents\\\\GitHub\\\\send-off2\\\\img\\\\'\n",
    "path_to = '..\\\\Documents\\\\GitHub\\\\send-off\\\\img\\\\'\n",
    "px_s = 60\n",
    "px_l = 600"
   ]
  },
  {
   "cell_type": "code",
   "execution_count": 3,
   "id": "606733c6",
   "metadata": {
    "ExecuteTime": {
     "end_time": "2021-05-21T02:19:19.933823Z",
     "start_time": "2021-05-21T02:11:26.286076Z"
    }
   },
   "outputs": [],
   "source": [
    "onlyfiles = [f for f in listdir(path_from) if isfile(join(path_from, f))]\n",
    "for f in onlyfiles:\n",
    "    img = Image.open(path_from + f)\n",
    "    h, w = img.size\n",
    "    try:\n",
    "        rot = dict(img._getexif().items())[274]\n",
    "    except:\n",
    "        rot = 0\n",
    "    img_l = img.resize((int(px_l), int(px_l * w / h)), Image.ANTIALIAS)\n",
    "    if rot == 3: \n",
    "        img_l = img_l.rotate(180, expand=True)\n",
    "    elif rot == 6 : \n",
    "        img_l = img_l.rotate(270, expand=True)\n",
    "    elif rot == 8 : \n",
    "        img_l = img_l.rotate(90, expand=True)    \n",
    "    img_l.save(path_to + 'picture\\\\' + f, optimize=True, quality=95)\n",
    "    img_s = img.resize((int(px_s), int(px_s * w / h)), Image.ANTIALIAS)\n",
    "    if rot == 3: \n",
    "        img_s = img_s.rotate(180, expand=True)\n",
    "    elif rot == 6 : \n",
    "        img_s = img_s.rotate(270, expand=True)\n",
    "    elif rot == 8 : \n",
    "        img_s = img_s.rotate(90, expand=True)    \n",
    "    img_s.save(path_to + 'thumbnail\\\\' + f, optimize=True, quality=95)    "
   ]
  }
 ],
 "metadata": {
  "kernelspec": {
   "display_name": "Python 3",
   "language": "python",
   "name": "python3"
  },
  "language_info": {
   "codemirror_mode": {
    "name": "ipython",
    "version": 3
   },
   "file_extension": ".py",
   "mimetype": "text/x-python",
   "name": "python",
   "nbconvert_exporter": "python",
   "pygments_lexer": "ipython3",
   "version": "3.8.8"
  },
  "toc": {
   "base_numbering": 1,
   "nav_menu": {},
   "number_sections": true,
   "sideBar": true,
   "skip_h1_title": false,
   "title_cell": "Table of Contents",
   "title_sidebar": "Contents",
   "toc_cell": false,
   "toc_position": {},
   "toc_section_display": true,
   "toc_window_display": false
  },
  "varInspector": {
   "cols": {
    "lenName": 16,
    "lenType": 16,
    "lenVar": 40
   },
   "kernels_config": {
    "python": {
     "delete_cmd_postfix": "",
     "delete_cmd_prefix": "del ",
     "library": "var_list.py",
     "varRefreshCmd": "print(var_dic_list())"
    },
    "r": {
     "delete_cmd_postfix": ") ",
     "delete_cmd_prefix": "rm(",
     "library": "var_list.r",
     "varRefreshCmd": "cat(var_dic_list()) "
    }
   },
   "types_to_exclude": [
    "module",
    "function",
    "builtin_function_or_method",
    "instance",
    "_Feature"
   ],
   "window_display": false
  }
 },
 "nbformat": 4,
 "nbformat_minor": 5
}
